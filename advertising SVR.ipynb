{
 "cells": [
  {
   "cell_type": "code",
   "execution_count": 1,
   "metadata": {},
   "outputs": [],
   "source": [
    "import pandas as pd\n",
    "import matplotlib.pyplot as plt\n",
    "import numpy as np"
   ]
  },
  {
   "cell_type": "code",
   "execution_count": 2,
   "metadata": {},
   "outputs": [],
   "source": [
    "df=pd.read_csv(\"D:/ML n DA\\Machine learning project/Advertise/advertising.csv\")"
   ]
  },
  {
   "cell_type": "code",
   "execution_count": 3,
   "metadata": {},
   "outputs": [],
   "source": [
    "X=df.iloc[:,:-1].values\n",
    "y=df.iloc[:,3].values"
   ]
  },
  {
   "cell_type": "code",
   "execution_count": 4,
   "metadata": {},
   "outputs": [
    {
     "name": "stderr",
     "output_type": "stream",
     "text": [
      "C:\\Users\\Shreyak\\Anaconda3\\lib\\site-packages\\sklearn\\svm\\base.py:193: FutureWarning: The default value of gamma will change from 'auto' to 'scale' in version 0.22 to account better for unscaled features. Set gamma explicitly to 'auto' or 'scale' to avoid this warning.\n",
      "  \"avoid this warning.\", FutureWarning)\n"
     ]
    },
    {
     "data": {
      "text/plain": [
       "SVR(C=1.0, cache_size=200, coef0=0.0, degree=3, epsilon=0.1,\n",
       "    gamma='auto_deprecated', kernel='rbf', max_iter=-1, shrinking=True,\n",
       "    tol=0.001, verbose=False)"
      ]
     },
     "execution_count": 4,
     "metadata": {},
     "output_type": "execute_result"
    }
   ],
   "source": [
    "from sklearn.svm import SVR\n",
    "regressor = SVR(kernel = 'rbf')\n",
    "regressor.fit(X, y)\n"
   ]
  },
  {
   "cell_type": "code",
   "execution_count": 5,
   "metadata": {},
   "outputs": [],
   "source": [
    "y_pred = regressor.predict(X)"
   ]
  },
  {
   "cell_type": "code",
   "execution_count": 6,
   "metadata": {},
   "outputs": [
    {
     "name": "stdout",
     "output_type": "stream",
     "text": [
      "[16.7696455  14.76964549 14.76964549 16.40013559 16.76964549 14.76964549\n",
      " 14.76964549 14.76964549 14.76964549 15.70013559 14.76964549 16.76964549\n",
      " 14.76964549 14.76765007 16.76964549 16.76964549 14.76964549 16.76964549\n",
      " 14.76964549 14.76964549 16.76964601 16.76964549 14.76964549 16.76964549\n",
      " 14.76964549 16.76964549 15.10013559 16.77043298 16.7736916  14.76964539\n",
      " 16.76964549 14.76964549 14.76964549 16.76964549 14.76288414 16.76964549\n",
      " 16.76964549 14.80013567 14.76964549 16.76964549 16.49979347 16.76964549\n",
      " 16.76964549 16.7696455  14.76964549 16.00013554 14.76964549 16.76964912\n",
      " 16.76964549 14.76964539 16.29979501 14.76943302 16.76964596 16.76964549\n",
      " 16.76964549 16.76964549 14.76964549 14.76964549 16.76964549 16.76964573\n",
      " 14.76964549 16.76964549 16.77043298 14.76964549 15.90013559 14.76964549\n",
      " 14.76964549 14.76964549 16.76964549 16.7696455  16.76964549 14.76964549\n",
      " 14.76964549 14.76964549 16.76965148 14.76964549 14.76964549 14.76964543\n",
      " 14.76964549 14.76964549 14.76964405 16.76964549 14.76964549 14.76964549\n",
      " 16.76964597 16.76964549 14.76964405 15.89972291 14.76964549 16.59979347\n",
      " 14.7696452  14.76964549 16.76964549 16.76964549 14.76964549 16.76964549\n",
      " 16.59979501 16.76966057 16.76964549 16.76964549 16.60013559 16.76964549\n",
      " 16.76964549 16.76964699 16.76964549 15.10013559 14.76964549 14.76964549\n",
      " 14.76964549 16.76964549 16.76964549 16.76964912 16.76964548 16.76965124\n",
      " 14.76964549 14.76964549 14.76964549 14.76964531 15.79979347 14.76608045\n",
      " 15.60013559 14.76964549 16.50013554 15.29979501 16.7696455  14.76964549\n",
      " 14.7696454  14.76964531 16.76964549 14.76964549 14.76964549 16.76964549\n",
      " 14.76964549 16.76964552 14.76964549 14.76964549 14.76964549 16.76964549\n",
      " 14.39056246 16.76964549 14.76964549 16.76964549 16.76964552 14.76964549\n",
      " 14.76964549 14.7696452  16.76964549 16.76964549 14.76964393 14.39056246\n",
      " 15.99979347 14.76964549 16.50013554 15.90013567 16.76964549 14.76964549\n",
      " 15.39979501 14.76964549 14.7696454  14.76964549 16.29972364 14.76964549\n",
      " 16.76965908 16.76964552 14.76964549 16.76964549 14.76964549 16.7696455\n",
      " 16.76964601 16.77053635 14.76964549 16.76964549 14.76964518 16.60013567\n",
      " 16.39987635 16.76964549 16.7736916  16.60013567 16.70013559 16.7696472\n",
      " 15.60013554 16.76964549 14.76964549 16.76964559 16.76964549 16.76964549\n",
      " 14.76964549 16.76964549 16.77053635 14.76608076 14.76964393 14.76964549\n",
      " 14.76964549 16.76964552 16.76964549 14.76964549 14.76110302 14.90015364\n",
      " 16.76964559 16.76964549]\n"
     ]
    }
   ],
   "source": [
    "print(y_pred)"
   ]
  },
  {
   "cell_type": "code",
   "execution_count": 7,
   "metadata": {},
   "outputs": [
    {
     "data": {
      "text/plain": [
       "0.26878650540046667"
      ]
     },
     "execution_count": 7,
     "metadata": {},
     "output_type": "execute_result"
    }
   ],
   "source": [
    "regressor.score(X,y)"
   ]
  },
  {
   "cell_type": "code",
   "execution_count": null,
   "metadata": {},
   "outputs": [],
   "source": []
  }
 ],
 "metadata": {
  "kernelspec": {
   "display_name": "Python 3",
   "language": "python",
   "name": "python3"
  },
  "language_info": {
   "codemirror_mode": {
    "name": "ipython",
    "version": 3
   },
   "file_extension": ".py",
   "mimetype": "text/x-python",
   "name": "python",
   "nbconvert_exporter": "python",
   "pygments_lexer": "ipython3",
   "version": "3.7.3"
  }
 },
 "nbformat": 4,
 "nbformat_minor": 2
}
